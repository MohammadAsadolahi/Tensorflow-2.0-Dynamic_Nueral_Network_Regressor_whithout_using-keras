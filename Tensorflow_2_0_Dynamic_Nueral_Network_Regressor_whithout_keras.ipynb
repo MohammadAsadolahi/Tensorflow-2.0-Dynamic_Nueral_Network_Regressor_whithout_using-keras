{
  "nbformat": 4,
  "nbformat_minor": 0,
  "metadata": {
    "colab": {
      "name": " Tensorflow-2.0-Dynamic_Nueral_Network_Regressor_whithout_keras.ipynb",
      "provenance": [],
      "collapsed_sections": []
    },
    "kernelspec": {
      "name": "python3",
      "display_name": "Python 3"
    },
    "language_info": {
      "name": "python"
    }
  },
  "cells": [
    {
      "cell_type": "markdown",
      "metadata": {
        "id": "cU74Am67IJVV"
      },
      "source": [
        "#WRITTEN BY MOHAMMAD ASADOLAHI  \n",
        "Mohammad.E.Asadolahi@gmail.com  \n",
        "https://github.com/mohammadAsadolahi  "
      ]
    },
    {
      "cell_type": "code",
      "metadata": {
        "id": "l5sIQ6JVoo1L"
      },
      "source": [
        "import tensorflow as tf\n",
        "import numpy as np\n",
        "\n",
        "class NN:\n",
        "  def __init__(self,layers=[3,3,2,1],activations=None):\n",
        "    self.W=[]\n",
        "    self.B=[]\n",
        "    self.a=[]\n",
        "    if activations:\n",
        "      self.a=activations\n",
        "    else:\n",
        "      for i in  range(len(layers)-2):\n",
        "        self.a.append(tf.nn.relu)\n",
        "    self.a.append(lambda x:tf.multiply(1,x))\n",
        "    for i in range(len(layers)-1):\n",
        "      self.W.append(tf.Variable(tf.random.uniform([layers[i+1],layers[i]],minval=-1,maxval=1),dtype=tf.float32))\n",
        "      self.B.append(tf.Variable(tf.random.uniform([layers[i+1],1],minval=-1,maxval=1),dtype=tf.float32))\n",
        "  def predict(self,X):\n",
        "    Z=tf.Variable(X,dtype=tf.float32)\n",
        "    for w,b,a in zip(self.W,self.B,self.a):\n",
        "      Z=tf.add(tf.matmul(w,Z),b)\n",
        "      Z=a(Z)\n",
        "    return Z\n",
        "  def loss(self,Y_pred,Y_target):\n",
        "    return tf.reduce_mean(tf.square(Y_pred-Y_target))\n",
        "  def fit(self,X,Y,epoch,lr=0.001):\n",
        "    for i in range(epoch):\n",
        "      with tf.GradientTape() as tape:\n",
        "        cost=self.loss(self.predict(X),Y)\n",
        "        gradients=tape.gradient(cost,[self.W,self.B])\n",
        "        for dw,db,w,b in zip(gradients[0],gradients[1],self.W,self.B):\n",
        "          w.assign_sub(dw*lr)\n",
        "          b.assign_sub(db*lr)\n",
        "      if (i%100)==0:\n",
        "        print(f\"epoch:{i}  loss:\",cost.numpy())"
      ],
      "execution_count": 22,
      "outputs": []
    },
    {
      "cell_type": "markdown",
      "metadata": {
        "id": "j4yyEpB1IepZ"
      },
      "source": [
        "define and train neural net with two data  \n",
        "leads to overfit!!! (but our purpose is education of how the step of forward propagation and backpropagation are)"
      ]
    },
    {
      "cell_type": "code",
      "metadata": {
        "colab": {
          "base_uri": "https://localhost:8080/"
        },
        "id": "ebc9kDIYhEf8",
        "outputId": "907f111e-6daf-458c-89c2-d39bc9a672d3"
      },
      "source": [
        "neuralNet=NN()\n",
        "x=np.array([[1,2,3],[4,5,6],[7,8,9]])\n",
        "y=np.array([11,30,48])\n",
        "y-neuralNet.predict(x).numpy()"
      ],
      "execution_count": 23,
      "outputs": [
        {
          "output_type": "execute_result",
          "data": {
            "text/plain": [
              "array([[14.74583817, 34.25332355, 52.76080894]])"
            ]
          },
          "metadata": {},
          "execution_count": 23
        }
      ]
    },
    {
      "cell_type": "code",
      "metadata": {
        "colab": {
          "base_uri": "https://localhost:8080/"
        },
        "id": "actyd2wLhaI4",
        "outputId": "639a72eb-c7e7-40ed-bfcb-dad3184f1d27"
      },
      "source": [
        "neuralNet.fit(X=x,Y=y,epoch=3000,lr=0.0005)\n",
        "print(neuralNet.predict(x).numpy())"
      ],
      "execution_count": 24,
      "outputs": [
        {
          "output_type": "stream",
          "name": "stdout",
          "text": [
            "epoch:0  loss: 1391.4777\n",
            "epoch:100  loss: 63.793793\n",
            "epoch:200  loss: 27.957956\n",
            "epoch:300  loss: 65.42758\n",
            "epoch:400  loss: 39.16231\n",
            "epoch:500  loss: 22.855268\n",
            "epoch:600  loss: 13.270038\n",
            "epoch:700  loss: 7.7132173\n",
            "epoch:800  loss: 4.5012145\n",
            "epoch:900  loss: 2.6421337\n",
            "epoch:1000  loss: 1.5637202\n",
            "epoch:1100  loss: 0.9365754\n",
            "epoch:1200  loss: 0.5710098\n",
            "epoch:1300  loss: 0.35744652\n",
            "epoch:1400  loss: 0.23255616\n",
            "epoch:1500  loss: 0.15942454\n",
            "epoch:1600  loss: 0.11652816\n",
            "epoch:1700  loss: 0.09137399\n",
            "epoch:1800  loss: 0.076596856\n",
            "epoch:1900  loss: 0.06792115\n",
            "epoch:2000  loss: 0.06281599\n",
            "epoch:2100  loss: 0.059821036\n",
            "epoch:2200  loss: 0.05806024\n",
            "epoch:2300  loss: 0.057030678\n",
            "epoch:2400  loss: 0.056421045\n",
            "epoch:2500  loss: 0.056064453\n",
            "epoch:2600  loss: 0.055852298\n",
            "epoch:2700  loss: 0.055730287\n",
            "epoch:2800  loss: 0.05565868\n",
            "epoch:2900  loss: 0.05561607\n",
            "[[11.162473 29.660816 48.159157]]\n"
          ]
        }
      ]
    },
    {
      "cell_type": "code",
      "metadata": {
        "colab": {
          "base_uri": "https://localhost:8080/"
        },
        "id": "WWSS6ZlvjjAW",
        "outputId": "f9774d9f-9b3c-4435-dc94-11484a34d3c2"
      },
      "source": [
        "print(neuralNet.predict(x).numpy())"
      ],
      "execution_count": 25,
      "outputs": [
        {
          "output_type": "stream",
          "name": "stdout",
          "text": [
            "[[11.162473 29.660816 48.159157]]\n"
          ]
        }
      ]
    },
    {
      "cell_type": "code",
      "metadata": {
        "colab": {
          "base_uri": "https://localhost:8080/"
        },
        "id": "bQ4z06iOnbwM",
        "outputId": "6481275b-22ef-4c6a-cd08-a080d550eee7"
      },
      "source": [
        "x=np.array([[10],[11],[12]])\n",
        "print(neuralNet.predict(x).numpy())"
      ],
      "execution_count": 29,
      "outputs": [
        {
          "output_type": "stream",
          "name": "stdout",
          "text": [
            "[[211.37775]]\n"
          ]
        }
      ]
    }
  ]
}
